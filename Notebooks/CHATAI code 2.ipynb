{
 "cells": [
  {
   "cell_type": "markdown",
   "id": "a52dcd5a",
   "metadata": {},
   "source": [
    "Coinbase by sell bot"
   ]
  },
  {
   "cell_type": "code",
   "execution_count": null,
   "id": "1e95293d",
   "metadata": {},
   "outputs": [],
   "source": [
    "import coinbase\n",
    "\n",
    "# Set your Coinbase API key and secret\n",
    "api_key = \"your_api_key\"\n",
    "api_secret = \"your_api_secret\"\n",
    "\n",
    "# Create a Coinbase client\n",
    "client = coinbase.Client(api_key, api_secret)\n",
    "\n",
    "# Set the currency and amount you want to buy\n",
    "currency = \"BTC\"\n",
    "amount = 0.1\n",
    "\n",
    "# Buy the cryptocurrency\n",
    "try:\n",
    "    result = client.buy(amount=amount, currency=currency)\n",
    "    print(f\"Successfully bought {amount} {currency}\")\n",
    "except Exception as e:\n",
    "    print(f\"Error buying {amount} {currency}: {e}\")\n",
    "\n",
    "# Set the currency and amount you want to sell\n",
    "currency = \"BTC\"\n",
    "amount = 0.1\n",
    "\n",
    "# Sell the cryptocurrency\n",
    "try:\n",
    "    result = client.sell(amount=amount, currency=currency)\n",
    "    print(f\"Successfully sold {amount} {currency}\")\n",
    "except Exception as e:\n",
    "    print(f\"Error selling {amount} {currency}: {e}\")"
   ]
  },
  {
   "cell_type": "markdown",
   "id": "2a248c98",
   "metadata": {},
   "source": [
    "This script uses the coinbase Python library to interact with the Coinbase API. To use this script, you'll need to sign up for a Coinbase account and obtain an API key and secret. You can then set these values in the api_key and api_secret variables.\n",
    "\n",
    "This script uses a loop to continuously check the price of a particular cryptocurrency (in this case, BTC). If the price is below the \"buy threshold\" (a price that you set), the script will buy a specific amount of the cryptocurrency. If the price is above the \"sell threshold\" (also a price that you set), the script will sell a specific amount of the cryptocurrency.\n",
    "\n",
    "You can adjust the buy_amount, sell_amount, buy_threshold, and sell_threshold variables to customize the behavior of the script. You can also change the currency variable to buy and sell different types of cryptocurrency."
   ]
  },
  {
   "cell_type": "code",
   "execution_count": null,
   "id": "8aa6e0b5",
   "metadata": {},
   "outputs": [],
   "source": [
    "import coinbase\n",
    "import time\n",
    "\n",
    "# Set your Coinbase API key and secret\n",
    "api_key = \"your_api_key\"\n",
    "api_secret = \"your_api_secret\"\n",
    "\n",
    "# Set the currency and amount you want to buy and sell\n",
    "currency = \"BTC\"\n",
    "buy_amount = 0.1\n",
    "sell_amount = 0.1\n",
    "\n",
    "# Set the buy and sell thresholds (in USD)\n",
    "buy_threshold = 10000\n",
    "sell_threshold = 12000\n",
    "\n",
    "# Create a Coinbase client\n",
    "client = coinbase.Client(api_key, api_secret)\n",
    "\n",
    "# Main loop\n",
    "while True:\n",
    "    # Get the current price of the cryptocurrency\n",
    "    price = client.get_spot_price(currency=currency)[\"amount\"]\n",
    "    \n",
    "    # If the price is below the buy threshold, buy the cryptocurrency\n",
    "    if float(price) < buy_threshold:\n",
    "        try:\n",
    "            result = client.buy(amount=buy_amount, currency=currency)\n",
    "            print(f\"Successfully bought {buy_amount} {currency}\")\n",
    "        except Exception as e:\n",
    "            print(f\"Error buying {buy_amount} {currency}: {e}\")\n",
    "    \n",
    "    # If the price is above the sell threshold, sell the cryptocurrency\n",
    "    elif float(price) > sell_threshold:\n",
    "        try:\n",
    "            result = client.sell(amount=sell_amount, currency=currency)\n",
    "            print(f\"Successfully sold {sell_amount} {currency}\")\n",
    "        except Exception as e:\n",
    "            print(f\"Error selling {sell_amount} {currency}: {e}\")\n",
    "    \n",
    "    # Sleep for one minute before checking the price again\n",
    "    time.sleep(60)\n"
   ]
  }
 ],
 "metadata": {
  "kernelspec": {
   "display_name": "Python 3 (ipykernel)",
   "language": "python",
   "name": "python3"
  },
  "language_info": {
   "codemirror_mode": {
    "name": "ipython",
    "version": 3
   },
   "file_extension": ".py",
   "mimetype": "text/x-python",
   "name": "python",
   "nbconvert_exporter": "python",
   "pygments_lexer": "ipython3",
   "version": "3.9.15"
  }
 },
 "nbformat": 4,
 "nbformat_minor": 5
}
