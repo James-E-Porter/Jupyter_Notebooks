{
 "cells": [
  {
   "cell_type": "markdown",
   "id": "3fdb6862",
   "metadata": {},
   "source": [
    "## 1) Applying a Function to a DataFrame"
   ]
  },
  {
   "cell_type": "markdown",
   "id": "4bdba9e2",
   "metadata": {},
   "source": [
    "##### This code snippet demonstrates how to apply a function to a DataFrame. It uses the Pandas library to first create a sample DataFrame with some randomly generated data. Then, it defines a function that takes a number as an argument and returns twice that number. Finally, it uses the apply() method to apply the function to each value in the DataFrame. "
   ]
  },
  {
   "cell_type": "code",
   "execution_count": 1,
   "id": "608c5cb2",
   "metadata": {},
   "outputs": [],
   "source": [
    "import pandas as pd\n",
    "import numpy as np"
   ]
  },
  {
   "cell_type": "code",
   "execution_count": 2,
   "id": "e03c31b9",
   "metadata": {},
   "outputs": [],
   "source": [
    "# Create a sample DataFrame\n",
    "df = pd.DataFrame(np.random.randint(0,100,size=(10, 4)), columns=list('ABCD'))"
   ]
  },
  {
   "cell_type": "code",
   "execution_count": 3,
   "id": "fc2647d1",
   "metadata": {},
   "outputs": [],
   "source": [
    "# Define a function that takes a number as an argument and returns twice that number\n",
    "def double_it(num):\n",
    "    return num * 2"
   ]
  },
  {
   "cell_type": "code",
   "execution_count": 4,
   "id": "50804cbb",
   "metadata": {},
   "outputs": [],
   "source": [
    "# Apply the function to each value in the DataFrame\n",
    "df = df.applymap(double_it)"
   ]
  },
  {
   "cell_type": "code",
   "execution_count": 5,
   "id": "fd2d89d6",
   "metadata": {},
   "outputs": [
    {
     "name": "stdout",
     "output_type": "stream",
     "text": [
      "     A    B    C    D\n",
      "0  180  182   78   50\n",
      "1   26  174  188  176\n",
      "2  198  196  100   46\n",
      "3   94   28   30   88\n",
      "4   30    2   98   60\n",
      "5   82  100  166  116\n",
      "6  134   46    4   22\n",
      "7  178   52  100   70\n",
      "8   76   28  114  192\n",
      "9   94  148   54   26\n"
     ]
    }
   ],
   "source": [
    "print(df)"
   ]
  },
  {
   "cell_type": "markdown",
   "id": "87742116",
   "metadata": {},
   "source": [
    "## 2) Filtering a DataFrame by Column Values"
   ]
  },
  {
   "cell_type": "markdown",
   "id": "9d60a42b",
   "metadata": {},
   "source": [
    "##### This code snippet shows how to filter a DataFrame by column values. It uses the Pandas library to first create a sample DataFrame with some randomly generated data. Then, it uses the loc method to filter the DataFrame based on values in a specified column. In this case, it filters the DataFrame to only include rows with a value greater than 50 in the 'A' column."
   ]
  },
  {
   "cell_type": "code",
   "execution_count": 6,
   "id": "5ef19341",
   "metadata": {},
   "outputs": [],
   "source": [
    "import pandas as pd\n",
    "import numpy as np"
   ]
  },
  {
   "cell_type": "code",
   "execution_count": 10,
   "id": "b6cb9ce8",
   "metadata": {},
   "outputs": [],
   "source": [
    "# Create a sample DataFrame\n",
    "df = pd.DataFrame(np.random.randint(0,100,size=(10, 4)), columns=list('ABCD'))"
   ]
  },
  {
   "cell_type": "code",
   "execution_count": 11,
   "id": "4d308b70",
   "metadata": {},
   "outputs": [],
   "source": [
    "# Filter the DataFrame to only include rows with a value greater than 50 in the 'A' column\n",
    "df = df.loc[df['A'] > 50]"
   ]
  },
  {
   "cell_type": "code",
   "execution_count": 12,
   "id": "bdfdc0bf",
   "metadata": {},
   "outputs": [
    {
     "name": "stdout",
     "output_type": "stream",
     "text": [
      "    A   B   C   D\n",
      "1  85  29  68  66\n",
      "3  68  83  58  68\n",
      "8  54  71  51  25\n",
      "9  54  63  75  39\n"
     ]
    }
   ],
   "source": [
    "print(df)"
   ]
  },
  {
   "cell_type": "markdown",
   "id": "c3cdf78b",
   "metadata": {},
   "source": [
    "## 3) Calculate the mean of a list of numbers"
   ]
  },
  {
   "cell_type": "markdown",
   "id": "22d44118",
   "metadata": {},
   "source": [
    "##### This code snippet is a function that calculates the mean of a list of numbers. It takes the list of numbers as an argument and first initializes the total sum to zero. It then iterates through the list of numbers and adds each number to the total sum. After the loop, it calculates the mean by dividing the total sum by the length of the array. Finally, it returns the result of the mean. The code also includes a test which prints the mean of a given list of numbers."
   ]
  },
  {
   "cell_type": "code",
   "execution_count": 13,
   "id": "e7944efd",
   "metadata": {},
   "outputs": [],
   "source": [
    "# Define a function to calculate the mean\n",
    "def calculate_mean(numbers):\n",
    "  total_sum = 0;  # Initialize the sum to zero\n",
    "  for n in numbers:\n",
    "    total_sum += n # Add up the numbers in the array\n",
    "  count = len(numbers)   # Find the length of the array\n",
    "  mean = total_sum / count  # Calculate the mean\n",
    "  return mean  # Return the result"
   ]
  },
  {
   "cell_type": "code",
   "execution_count": 14,
   "id": "98c3238b",
   "metadata": {},
   "outputs": [
    {
     "name": "stdout",
     "output_type": "stream",
     "text": [
      "The mean is: 3.0\n"
     ]
    }
   ],
   "source": [
    "# Test the function with a list of numbers\n",
    "numbers = [1, 2, 3, 4, 5]\n",
    "result = calculate_mean(numbers)\n",
    "print(\"The mean is:\", result)"
   ]
  },
  {
   "cell_type": "markdown",
   "id": "7699bef1",
   "metadata": {},
   "source": [
    "## Data Exploration Code Snippet: "
   ]
  },
  {
   "cell_type": "markdown",
   "id": "5c47dcfe",
   "metadata": {},
   "source": [
    "##### This code snippet is used for exploring a dataset. It imports the necessary libraries (Pandas and Numpy) to work with the data. Then, it imports the data from a .csv file and prints the first 5 rows of the data (data.head()) to get an understanding of the data. Finally, it prints descriptive statistics of the data (data.describe()) to get a better understanding of the data. This includes the mean, standard deviation, minimum and maximum values, and other statistical measures."
   ]
  },
  {
   "cell_type": "code",
   "execution_count": null,
   "id": "712dc7aa",
   "metadata": {},
   "outputs": [],
   "source": [
    "#import necessary libraries\n",
    "import pandas as pd\n",
    "import numpy as np"
   ]
  },
  {
   "cell_type": "code",
   "execution_count": null,
   "id": "943473fa",
   "metadata": {},
   "outputs": [],
   "source": [
    "#import data\n",
    "data = pd.read_csv('data.csv')"
   ]
  },
  {
   "cell_type": "code",
   "execution_count": null,
   "id": "f4b1cc48",
   "metadata": {},
   "outputs": [],
   "source": [
    "#print first 5 rows of data\n",
    "print(data.head())"
   ]
  },
  {
   "cell_type": "code",
   "execution_count": null,
   "id": "04e542b9",
   "metadata": {},
   "outputs": [],
   "source": [
    "#explore descriptive statistics of data\n",
    "print(data.describe())"
   ]
  },
  {
   "cell_type": "markdown",
   "id": "1c51c8e4",
   "metadata": {},
   "source": []
  }
 ],
 "metadata": {
  "kernelspec": {
   "display_name": "Python 3 (ipykernel)",
   "language": "python",
   "name": "python3"
  },
  "language_info": {
   "codemirror_mode": {
    "name": "ipython",
    "version": 3
   },
   "file_extension": ".py",
   "mimetype": "text/x-python",
   "name": "python",
   "nbconvert_exporter": "python",
   "pygments_lexer": "ipython3",
   "version": "3.9.15"
  }
 },
 "nbformat": 4,
 "nbformat_minor": 5
}
