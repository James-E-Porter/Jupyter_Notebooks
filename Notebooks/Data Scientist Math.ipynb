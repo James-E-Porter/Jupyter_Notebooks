{
 "cells": [
  {
   "cell_type": "markdown",
   "id": "f2914f77",
   "metadata": {},
   "source": [
    "## 1. Calculating Correlation:"
   ]
  },
  {
   "cell_type": "markdown",
   "id": "ef53964d",
   "metadata": {},
   "source": [
    "##### Correlation is a measure of the strength of the relationship between two variables. To calculate the correlation between two variables, you can use the Pearson correlation coefficient. The Pearson correlation coefficient is a measure of the linear relationship between two variables. It is denoted by r, and is calculated as follows:\n",
    "\n",
    "r = Σ(x - x̅)(y - y̅) / √[Σ(x - x̅)²Σ(y - y̅)²]\n",
    "\n",
    "Where x and y are the two variables, x̅ and y̅ are the means of the two variables, Σ is the sum of the values, and √ is the square root.\n",
    "\n",
    "This calculation will give a value between -1 and 1. A value of -1 indicates a perfectly negative linear relationship, a value of 0 indicates no linear relationship, and a value of 1 indicates a perfectly positive linear relationship."
   ]
  }
 ],
 "metadata": {
  "kernelspec": {
   "display_name": "Python 3 (ipykernel)",
   "language": "python",
   "name": "python3"
  },
  "language_info": {
   "codemirror_mode": {
    "name": "ipython",
    "version": 3
   },
   "file_extension": ".py",
   "mimetype": "text/x-python",
   "name": "python",
   "nbconvert_exporter": "python",
   "pygments_lexer": "ipython3",
   "version": "3.9.15"
  }
 },
 "nbformat": 4,
 "nbformat_minor": 5
}
