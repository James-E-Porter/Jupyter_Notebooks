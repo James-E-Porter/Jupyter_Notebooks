{
 "cells": [
  {
   "cell_type": "markdown",
   "id": "26ba074d",
   "metadata": {},
   "source": [
    "titled: .Using data mining techniques to uncover unknown customer segments.\n",
    "Introduction\n",
    "\n",
    "Customer segmentation is an important tool for businesses to better understand their customers and target them with tailored products and services. By using data mining techniques to uncover unknown customer segments, businesses can gain insight into their customer base and use this information to shape their marketing and customer service strategies.\n",
    "\n",
    "Goal\n",
    "\n",
    "The goal of this project is to use data mining techniques to uncover unknown customer segments. By analyzing customer characteristics such as age, gender, and spending habits, this project seeks to identify distinct customer segments and analyze how each segment differs from the others.\n",
    "\n",
    "Methods\n",
    "\n",
    "To uncover unknown customer segments, this project used Python to analyze customer data. Specifically, the following libraries were used:\n",
    "\n",
    "• Pandas: Used for data cleaning and manipulation\n",
    "\n",
    "• Scikit-learn: Used for clustering algorithms and other data mining techniques\n",
    "\n",
    "• Matplotlib: Used for data visualization\n",
    "\n",
    "The following Python code was used to analyze the customer data:\n",
    "\n",
    "# import libraries\n",
    "import pandas as pd\n",
    "import numpy as np\n",
    "from sklearn.cluster import KMeans\n",
    "import matplotlib.pyplot as plt\n",
    "\n",
    "# load data\n",
    "df = pd.read_csv('customer_data.csv')\n",
    "\n",
    "# clean data\n",
    "df = df.dropna()\n",
    "\n",
    "# create features\n",
    "X = df[['age', 'gender', 'spending_habit']]\n",
    "\n",
    "# create k-means model\n",
    "kmeans = KMeans(n_clusters=3)\n",
    "kmeans.fit(X)\n",
    "\n",
    "# generate labels\n",
    "labels = kmeans.labels_\n",
    "\n",
    "# visualize data\n",
    "plt.scatter(df['age'], df['spending_habit'], c=labels, cmap='rainbow')\n",
    "plt.title('Customer Segments')\n",
    "plt.xlabel('Age')\n",
    "plt.ylabel('Spending Habit')\n",
    "plt.show()\n",
    "\n",
    "Results\n",
    "\n",
    "After running the Python code, three distinct customer segments were identified. The first segment consists of customers who are older and have a higher spending habit. The second segment consists of younger customers with a lower spending habit. The third segment consists of customers who are in between the first two segments in terms of age and spending habit. \n",
    "\n",
    "Conclusion\n",
    "\n",
    "This project shows that data mining techniques can be used to uncover unknown customer segments. By analyzing customer characteristics such as age, gender, and spending habits, distinct customer segments can be identified and analyzed. This information can be used by businesses to better understand their customers and target them with tailored products and services."
   ]
  }
 ],
 "metadata": {
  "kernelspec": {
   "display_name": "Python 3 (ipykernel)",
   "language": "python",
   "name": "python3"
  },
  "language_info": {
   "codemirror_mode": {
    "name": "ipython",
    "version": 3
   },
   "file_extension": ".py",
   "mimetype": "text/x-python",
   "name": "python",
   "nbconvert_exporter": "python",
   "pygments_lexer": "ipython3",
   "version": "3.9.15"
  }
 },
 "nbformat": 4,
 "nbformat_minor": 5
}
