{
 "cells": [
  {
   "cell_type": "markdown",
   "id": "81f9c937",
   "metadata": {},
   "source": [
    "Write a simple text based adventure."
   ]
  },
  {
   "cell_type": "code",
   "execution_count": null,
   "id": "8431109e",
   "metadata": {},
   "outputs": [],
   "source": [
    "# Declare some variables to store the player's progress\n",
    "current_room = \"start\"\n",
    "inventory = []\n",
    "\n",
    "# Define the game's rooms and their descriptions\n",
    "rooms = {\n",
    "    \"start\": \"You are in a dark room. There is a door to the north and a door to the south.\",\n",
    "    \"north room\": \"You are in a bright room. There is a door to the east and a door to the west.\",\n",
    "    \"south room\": \"You are in a damp room. There is a door to the east and a door to the west.\",\n",
    "    \"east room\": \"You are in a warm room. There is a door to the north and a door to the south.\",\n",
    "    \"west room\": \"You are in a cold room. There is a door to the north and a door to the south.\"\n",
    "}\n",
    "\n",
    "# Define the game's items and their descriptions\n",
    "items = {\n",
    "    \"key\": \"A small brass key.\"\n",
    "}\n",
    "\n",
    "# Define the game's puzzles and their solutions\n",
    "puzzles = {\n",
    "    \"puzzle 1\": [\"What is the capital of France?\", \"Paris\"]\n",
    "}\n",
    "\n",
    "# Define the game's enemies and their descriptions\n",
    "enemies = {\n",
    "    \"enemy 1\": \"A small, creepy-looking spider.\"\n",
    "}\n",
    "\n",
    "# Define the game's actions\n",
    "actions = {\n",
    "    \"north\": [\"north room\", \"You go through the door to the north and enter the north room.\"],\n",
    "    \"south\": [\"south room\", \"You go through the door to the south and enter the south room.\"],\n",
    "    \"east\": [\"east room\", \"You go through the door to the east and enter the east room.\"],\n",
    "    \"west\": [\"west room\", \"You go through the door to the west and enter the west room.\"],\n",
    "    \"pick up key\": [\"key\", \"You pick up the key.\"],\n",
    "    \"solve puzzle 1\": [\"puzzle 1\", \"You solve the puzzle and unlock the door.\"]\n",
    "}\n",
    "\n",
    "# Main game loop\n",
    "while True:\n",
    "    # Print the current room's description\n",
    "    print(rooms[current_room])\n",
    "    \n",
    "    # Get the player's input\n",
    "    command = input(\"> \")\n",
    "    \n",
    "    # Check if the player's input is a valid action\n",
    "    if command in actions:\n",
    "        # Perform the action\n",
    "        current_room = actions[command][0]\n",
    "        print(actions[command][1])\n",
    "    else:\n",
    "        # Print an error message\n",
    "        print(\"I'm sorry, I don't understand what you mean.\")"
   ]
  },
  {
   "cell_type": "markdown",
   "id": "33e899fd",
   "metadata": {},
   "source": [
    "Script to monitor my network"
   ]
  },
  {
   "cell_type": "code",
   "execution_count": 1,
   "id": "7b5df237",
   "metadata": {},
   "outputs": [
    {
     "name": "stdout",
     "output_type": "stream",
     "text": [
      "Connection successful\n",
      "Connection successful\n",
      "Connection successful\n",
      "Connection successful\n",
      "Connection successful\n"
     ]
    }
   ],
   "source": [
    "import requests\n",
    "\n",
    "# Set the URL of a website that should always be accessible\n",
    "test_url = \"https://www.google.com\"\n",
    "\n",
    "# Set the maximum number of connection attempts\n",
    "max_attempts = 5\n",
    "\n",
    "# Set the timeout for each connection attempt (in seconds)\n",
    "timeout = 5\n",
    "\n",
    "# Set the initial number of connection attempts\n",
    "attempts = 0\n",
    "\n",
    "# Main loop\n",
    "while True:\n",
    "    # Increment the number of attempts\n",
    "    attempts += 1\n",
    "    \n",
    "    # Try to connect to the website\n",
    "    try:\n",
    "        response = requests.get(test_url, timeout=timeout)\n",
    "        print(\"Connection successful\")\n",
    "    except:\n",
    "        print(\"Connection failed\")\n",
    "    \n",
    "    # If the maximum number of attempts has been reached, break out of the loop\n",
    "    if attempts >= max_attempts:\n",
    "        break"
   ]
  },
  {
   "cell_type": "markdown",
   "id": "a5411a55",
   "metadata": {},
   "source": [
    "With connection speed also"
   ]
  },
  {
   "cell_type": "code",
   "execution_count": 2,
   "id": "48ce6e5a",
   "metadata": {},
   "outputs": [
    {
     "name": "stdout",
     "output_type": "stream",
     "text": [
      "Connection successful (speed: 0.08 Mbps)\n",
      "Connection successful (speed: 0.09 Mbps)\n",
      "Connection successful (speed: 0.09 Mbps)\n",
      "Connection successful (speed: 0.09 Mbps)\n",
      "Connection successful (speed: 0.09 Mbps)\n"
     ]
    }
   ],
   "source": [
    "import requests\n",
    "import time\n",
    "\n",
    "# Set the URL of a website that should always be accessible\n",
    "test_url = \"https://www.google.com\"\n",
    "\n",
    "# Set the maximum number of connection attempts\n",
    "max_attempts = 5\n",
    "\n",
    "# Set the timeout for each connection attempt (in seconds)\n",
    "timeout = 5\n",
    "\n",
    "# Set the initial number of connection attempts\n",
    "attempts = 0\n",
    "\n",
    "# Main loop\n",
    "while True:\n",
    "    # Increment the number of attempts\n",
    "    attempts += 1\n",
    "    \n",
    "    # Try to connect to the website\n",
    "    try:\n",
    "        start_time = time.time()\n",
    "        response = requests.get(test_url, timeout=timeout)\n",
    "        end_time = time.time()\n",
    "        \n",
    "        # Calculate the connection speed (in Mbps)\n",
    "        speed = (len(response.content) * 8) / (end_time - start_time) / 1e6\n",
    "        \n",
    "        print(f\"Connection successful (speed: {speed:.2f} Mbps)\")\n",
    "    except:\n",
    "        print(\"Connection failed\")\n",
    "    \n",
    "    # If the maximum number of attempts has been reached, break out of the loop\n",
    "    if attempts >= max_attempts:\n",
    "        break"
   ]
  },
  {
   "cell_type": "code",
   "execution_count": null,
   "id": "55dfb781",
   "metadata": {},
   "outputs": [],
   "source": []
  }
 ],
 "metadata": {
  "kernelspec": {
   "display_name": "Python 3 (ipykernel)",
   "language": "python",
   "name": "python3"
  },
  "language_info": {
   "codemirror_mode": {
    "name": "ipython",
    "version": 3
   },
   "file_extension": ".py",
   "mimetype": "text/x-python",
   "name": "python",
   "nbconvert_exporter": "python",
   "pygments_lexer": "ipython3",
   "version": "3.9.15"
  }
 },
 "nbformat": 4,
 "nbformat_minor": 5
}
