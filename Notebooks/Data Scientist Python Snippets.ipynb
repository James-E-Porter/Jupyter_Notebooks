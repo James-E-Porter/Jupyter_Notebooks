{
 "cells": [
  {
   "cell_type": "code",
   "execution_count": null,
   "id": "9426e9a0",
   "metadata": {},
   "outputs": [],
   "source": [
    "#1 Calculate the mean of a list of numbers\n",
    "\n",
    "list_of_numbers = [1,2,3,4,5]\n",
    "\n",
    "mean = sum(list_of_numbers) / len(list_of_numbers)\n",
    "\n",
    "print(mean) # output: 3.0\n"
   ]
  },
  {
   "cell_type": "code",
   "execution_count": null,
   "id": "2586833e",
   "metadata": {},
   "outputs": [],
   "source": [
    "#2 Generate a random number\n",
    "\n",
    "import random\n",
    "\n",
    "rand_num = random.randint(0,10)\n",
    "\n",
    "print(rand_num) # output: e.g. 2\n"
   ]
  },
  {
   "cell_type": "code",
   "execution_count": null,
   "id": "6629e1bf",
   "metadata": {},
   "outputs": [],
   "source": [
    "#3 Read a CSV file\n",
    "\n",
    "import csv\n",
    "\n",
    "with open('myfile.csv') as csvfile:\n",
    "    reader = csv.reader(csvfile)\n",
    "    for row in reader:\n",
    "        print(row)\n"
   ]
  },
  {
   "cell_type": "code",
   "execution_count": null,
   "id": "d8edefd4",
   "metadata": {},
   "outputs": [],
   "source": [
    "#4 Plot a histogram\n",
    "\n",
    "import matplotlib.pyplot as plt\n",
    "\n",
    "x = [1,2,3,4,5]\n",
    "\n",
    "plt.hist(x, bins=5)\n",
    "plt.show()"
   ]
  },
  {
   "cell_type": "code",
   "execution_count": null,
   "id": "210ff56b",
   "metadata": {},
   "outputs": [],
   "source": [
    "#5 Create a pandas dataframe\n",
    "\n",
    "import pandas as pd\n",
    "\n",
    "data = [[1, 2, 3], [4, 5, 6]]\n",
    "\n",
    "df = pd.DataFrame(data, columns=['a', 'b', 'c'])\n",
    "\n",
    "print(df)\n",
    "#    a  b  c\n",
    "# 0  1  2  3\n",
    "# 1  4  5  6"
   ]
  },
  {
   "cell_type": "code",
   "execution_count": null,
   "id": "79d38c40",
   "metadata": {},
   "outputs": [],
   "source": [
    "# Create a pandas dataframe from a csv file\n",
    "import pandas as pd \n",
    "\n",
    "df = pd.read_csv('file_name.csv') \n",
    "\n",
    "print(df)"
   ]
  }
 ],
 "metadata": {
  "kernelspec": {
   "display_name": "Python 3 (ipykernel)",
   "language": "python",
   "name": "python3"
  },
  "language_info": {
   "codemirror_mode": {
    "name": "ipython",
    "version": 3
   },
   "file_extension": ".py",
   "mimetype": "text/x-python",
   "name": "python",
   "nbconvert_exporter": "python",
   "pygments_lexer": "ipython3",
   "version": "3.9.15"
  }
 },
 "nbformat": 4,
 "nbformat_minor": 5
}
